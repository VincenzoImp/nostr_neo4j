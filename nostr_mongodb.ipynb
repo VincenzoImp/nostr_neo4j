{
 "cells": [
  {
   "cell_type": "code",
   "execution_count": 1,
   "metadata": {},
   "outputs": [],
   "source": [
    "import pymongo\n",
    "import os\n",
    "import json\n",
    "from tqdm import tqdm\n",
    "from nostr_neo4j import Event\n",
    "\n",
    "events_dir = '../Nostr-Network/data/events'"
   ]
  },
  {
   "cell_type": "code",
   "execution_count": null,
   "metadata": {},
   "outputs": [],
   "source": [
    "client = pymongo.MongoClient(\"mongodb://localhost:27017/\")\n",
    "db = client[\"events\"]\n",
    "collection = db[\"events\"]"
   ]
  },
  {
   "cell_type": "code",
   "execution_count": null,
   "metadata": {},
   "outputs": [],
   "source": [
    "for file in os.listdir(events_dir):\n",
    "    if os.path.isfile(os.path.join(events_dir, file)) and file.endswith('.jsonl'):\n",
    "        with open(os.path.join(events_dir, file)) as f:\n",
    "            events = [json.loads(line) for line in f]\n",
    "        for event in tqdm(events, desc=f'Processing {file}'):\n",
    "            try:\n",
    "                event = Event.from_dict(event)\n",
    "                collection.insert_one(event.to_dict())\n",
    "            except Exception as e:\n",
    "                print(e)\n",
    "                print(event)"
   ]
  },
  {
   "cell_type": "code",
   "execution_count": 10,
   "metadata": {},
   "outputs": [],
   "source": [
    "import pandas as pd\n",
    "df = pd.read_parquet('data/events.parquet')"
   ]
  },
  {
   "cell_type": "code",
   "execution_count": null,
   "metadata": {},
   "outputs": [
    {
     "data": {
      "text/plain": [
       "{'id': '34c51b718e222a69731a69b2589bd465c52d03f6db20f78e5ded6106ec0d55c7',\n",
       " 'created_at': 1679239395,\n",
       " 'kind': 7,\n",
       " 'pubkey': '82b36089920375da7c0e900799a7c22d57afa41447261406fa5de41d81884618',\n",
       " 'sig': 'b79b0ae7c168e9cf35e3dea5b1f88edad06e65f4259bf46f01c68eb7c8b3e72edad2ca0f968922f9f1c6e7d3dc092dbe69c308a5e100869804c7830dc3ef1929',\n",
       " 'content': '+',\n",
       " 'tags': array([array(['e',\n",
       "               '913548053d7c30d6baf891922df58af72b6c00d7663b233dac408df92797557b'],\n",
       "              dtype=object)                                                        ,\n",
       "        array(['p',\n",
       "               '82b36089920375da7c0e900799a7c22d57afa41447261406fa5de41d81884618'],\n",
       "              dtype=object)                                                        ],\n",
       "       dtype=object)}"
      ]
     },
     "execution_count": 12,
     "metadata": {},
     "output_type": "execute_result"
    }
   ],
   "source": [
    "df.drop_duplicates(subset=['tags'])"
   ]
  },
  {
   "cell_type": "code",
   "execution_count": 11,
   "metadata": {},
   "outputs": [
    {
     "data": {
      "text/plain": [
       "0"
      ]
     },
     "execution_count": 11,
     "metadata": {},
     "output_type": "execute_result"
    }
   ],
   "source": [
    "# garbage collection\n",
    "import gc\n",
    "gc.collect()\n"
   ]
  }
 ],
 "metadata": {
  "kernelspec": {
   "display_name": "venv",
   "language": "python",
   "name": "python3"
  },
  "language_info": {
   "codemirror_mode": {
    "name": "ipython",
    "version": 3
   },
   "file_extension": ".py",
   "mimetype": "text/x-python",
   "name": "python",
   "nbconvert_exporter": "python",
   "pygments_lexer": "ipython3",
   "version": "3.12.3"
  }
 },
 "nbformat": 4,
 "nbformat_minor": 2
}

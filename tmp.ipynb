{
 "cells": [
  {
   "cell_type": "code",
   "execution_count": 4,
   "metadata": {},
   "outputs": [],
   "source": [
    "import json"
   ]
  },
  {
   "cell_type": "code",
   "execution_count": 2,
   "metadata": {},
   "outputs": [],
   "source": [
    "with open('events_0.jsonl') as f:\n",
    "    events = [json.loads(line) for line in f]"
   ]
  },
  {
   "cell_type": "code",
   "execution_count": 5,
   "metadata": {},
   "outputs": [
    {
     "data": {
      "text/plain": [
       "{'id': '015bf366d0916fb042281d425fef7d1f82ce8310dfedec9e8ffc7018c0d33323',\n",
       " 'created_at': 1679239639,\n",
       " 'kind': 0,\n",
       " 'pubkey': '9b17b72fb6de8d19274e1a5ed1c7cbf659f079fb7a5a7e726cc7898f8a676694',\n",
       " 'sig': '085166b5184f4bce51643e88e48b8f1a332e0f0085b606194b25ca38d395917a1359927c1e3b7caa0c5c70f402736f3f1c3022bdde682fdcf8692ada3fd2a30e',\n",
       " 'content': '{\"name\":\"\",\"about\":\"\",\"nip05\":\"pojo_at_infosec.exchange@mostr.pub\"}',\n",
       " 'tags': [['mostr', 'https://infosec.exchange/users/pojo']]}"
      ]
     },
     "execution_count": 5,
     "metadata": {},
     "output_type": "execute_result"
    }
   ],
   "source": [
    "for event in events:\n",
    "    if event['kind'] == 0:\n",
    "        break\n",
    "event"
   ]
  }
 ],
 "metadata": {
  "kernelspec": {
   "display_name": "venv",
   "language": "python",
   "name": "python3"
  },
  "language_info": {
   "codemirror_mode": {
    "name": "ipython",
    "version": 3
   },
   "file_extension": ".py",
   "mimetype": "text/x-python",
   "name": "python",
   "nbconvert_exporter": "python",
   "pygments_lexer": "ipython3",
   "version": "3.12.3"
  }
 },
 "nbformat": 4,
 "nbformat_minor": 2
}

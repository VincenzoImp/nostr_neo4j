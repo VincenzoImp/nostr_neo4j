{
 "cells": [
  {
   "cell_type": "code",
   "execution_count": null,
   "metadata": {},
   "outputs": [],
   "source": [
    "import json\n",
    "from tqdm import tqdm\n",
    "from nostr_neo4j import utils"
   ]
  },
  {
   "cell_type": "code",
   "execution_count": null,
   "metadata": {},
   "outputs": [],
   "source": [
    "with open('data/events.jsonl') as f:\n",
    "    events = [json.loads(line) for line in f]"
   ]
  },
  {
   "cell_type": "code",
   "execution_count": null,
   "metadata": {},
   "outputs": [
    {
     "data": {
      "text/plain": [
       "{'id': 'e0c4411dd0ec710c3f980c0eecbeb7f6575204487e896d8717391c4bddb745bd',\n",
       " 'created_at': 1684451725,\n",
       " 'kind': 0,\n",
       " 'pubkey': '7556987aa829381934ac6e8d9b71a4da304507f05a7ad60e447bd48218fd6faf',\n",
       " 'sig': '9a6f6428cdc155052fffb71c71cc0955047998ea5b485b851c13da54663c25b43cd395d8f9dc8f8cce238f86b7b1c955ba62b0f73c598d1879a5b5de4dbc3ff9',\n",
       " 'content': '{\\\\\"display_name\\\\\":\\\\\"限时领券优惠\\\\\",\\\\\"website\\\\\":\\\\\"https://55uu.wang\\\\\",\\\\\"name\\\\\":\\\\\"京东拼多多抖音淘宝优惠券\\\\\", \\\\\"about\\\\\":\\\\\"京东,拼多多,抖音,淘宝,限时领券优惠\\\\\", \\\\\"picture\\\\\":\\\\\"https://tftc.io/content/images/2023/01/Screen-Shot-2023-01-30-at-11.11.27-PM.png\\\\\",\\\\\"nip05\\\\\":\\\\\"npub1w4tfs74g9yupjd9vd6xekudymgcy2plstfadvrjy002gyx8ad7hsj782lv@nostr-vip.top\\\\\"}',\n",
       " 'tags': []}"
      ]
     },
     "execution_count": 5,
     "metadata": {},
     "output_type": "execute_result"
    }
   ],
   "source": [
    "events[-1]"
   ]
  },
  {
   "cell_type": "code",
   "execution_count": null,
   "metadata": {},
   "outputs": [],
   "source": []
  }
 ],
 "metadata": {
  "kernelspec": {
   "display_name": "venv",
   "language": "python",
   "name": "python3"
  },
  "language_info": {
   "codemirror_mode": {
    "name": "ipython",
    "version": 3
   },
   "file_extension": ".py",
   "mimetype": "text/x-python",
   "name": "python",
   "nbconvert_exporter": "python",
   "pygments_lexer": "ipython3",
   "version": "3.12.3"
  }
 },
 "nbformat": 4,
 "nbformat_minor": 2
}

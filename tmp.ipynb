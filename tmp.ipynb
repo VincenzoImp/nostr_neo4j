{
 "cells": [
  {
   "cell_type": "code",
   "execution_count": 1,
   "metadata": {},
   "outputs": [],
   "source": [
    "import json\n",
    "from tqdm import tqdm"
   ]
  },
  {
   "cell_type": "code",
   "execution_count": 2,
   "metadata": {},
   "outputs": [],
   "source": [
    "with open('data/events.jsonl') as f:\n",
    "    events = [json.loads(line) for line in f]"
   ]
  },
  {
   "cell_type": "code",
   "execution_count": 24,
   "metadata": {},
   "outputs": [],
   "source": [
    "import json\n",
    "import hashlib\n",
    "\n",
    "def escape_content(content):\n",
    "    # The following characters in the content field must be escaped as shown, and all other characters must be included verbatim:\n",
    "    # A line break (0x0A), use \\n\n",
    "    # A double quote (0x22), use \\\"\n",
    "    # A backslash (0x5C), use \\\\\n",
    "    # A carriage return (0x0D), use \\r\n",
    "    # A tab character (0x09), use \\t\n",
    "    # A backspace, (0x08), use \\b\n",
    "    # A form feed, (0x0C), use \\f\n",
    "    return content\n",
    "\n",
    "def generate_event_id(pubkey, created_at, kind, tags, content):\n",
    "    \"\"\"Generate an event ID based on the given parameters.\"\"\"\n",
    "    # Escape the content\n",
    "    escaped_content = escape_content(content)\n",
    "    \n",
    "    # Create the event structure\n",
    "    event = [\n",
    "        0,\n",
    "        pubkey.lower(),  # Ensure the public key is in lowercase hex\n",
    "        created_at,\n",
    "        kind,\n",
    "        tags,\n",
    "        escaped_content\n",
    "    ]\n",
    "    \n",
    "    # Serialize the event to a JSON string with no extra whitespace or line breaks\n",
    "    json_string = json.dumps(event, separators=(',', ':'), ensure_ascii=False)\n",
    "    \n",
    "    # Hash the JSON string with SHA-256 to get the event ID\n",
    "    event_id = hashlib.sha256(json_string.encode('utf-8')).hexdigest()\n",
    "    \n",
    "    return event_id\n"
   ]
  },
  {
   "cell_type": "code",
   "execution_count": null,
   "metadata": {},
   "outputs": [],
   "source": [
    "to_resolve = []\n",
    "for event in tqdm(events):\n",
    "    event_id = generate_event_id(\n",
    "        event['pubkey'],\n",
    "        event['created_at'],\n",
    "        event['kind'],\n",
    "        event['tags'],\n",
    "        event['content']\n",
    "    ) \n",
    "    if event_id != event['id']:\n",
    "        to_resolve.append(event)"
   ]
  },
  {
   "cell_type": "code",
   "execution_count": 25,
   "metadata": {},
   "outputs": [
    {
     "data": {
      "text/plain": [
       "28085"
      ]
     },
     "execution_count": 25,
     "metadata": {},
     "output_type": "execute_result"
    }
   ],
   "source": [
    "c = 0\n",
    "for event in to_resolve:\n",
    "    event_id = generate_event_id(\n",
    "        event['pubkey'],\n",
    "        event['created_at'],\n",
    "        event['kind'],\n",
    "        event['tags'],\n",
    "        event['content']\n",
    "    ) \n",
    "    if event_id != event['id']:\n",
    "        c += 1\n",
    "c"
   ]
  },
  {
   "cell_type": "code",
   "execution_count": null,
   "metadata": {},
   "outputs": [
    {
     "name": "stdout",
     "output_type": "stream",
     "text": [
      "['#StandWithUkraine️', '🇺🇦🇬🇧https://twitter.com/DefenceHQ/status/1674780819565727751\\\\n\\\\nOriginal', 'tweet', ':', 'https://twitter.com/ukraine_world/status/1674809838394540032\\\\n\\\\nhttps://fed.celp.de/system/media_attachments/files/110/634/280/459/465/562/original/7f751339cc434a5e.jpg\\\\n\\\\nhttps://fed.celp.de/system/media_attachments/files/110/634/280/775/749/817/original/f015782bea989248.jpg\\\\n\\\\nhttps://fed.celp.de/system/media_attachments/files/110/634/280/882/615/493/original/e0546a1c279f68a6.jpg\\\\n\\\\nhttps://fed.celp.de/system/media_attachments/files/110/634/281/143/585/053/original/22640422cd7ec735.jpg']\n"
     ]
    }
   ],
   "source": [
    "print(event['content'].split('\\n'))"
   ]
  },
  {
   "cell_type": "code",
   "execution_count": 28,
   "metadata": {},
   "outputs": [
    {
     "data": {
      "text/plain": [
       "('453373219e08f413acc136643783b89385d1a7472840d08402bf9d4ddbf728d4',\n",
       " '527fd27a1a721f480456741e4a0e94b0a0f87a74a447d10eee0bd8e8e6c83053',\n",
       " {'id': '527fd27a1a721f480456741e4a0e94b0a0f87a74a447d10eee0bd8e8e6c83053',\n",
       "  'created_at': 1688145174,\n",
       "  'kind': 1,\n",
       "  'pubkey': 'e4197b705edc5c8c05c8bd175999e5815c0bbd6d1dc7803fce4f9e6254e41364',\n",
       "  'sig': 'dec7ba1813b70e6b73e353aafa3ee5912cb7f0b5154db7aa499a6e57edf163db0366c99a78753a8ac00a691a18422e9ca77a4cb8da9b04ce8ccd04b835a77a98',\n",
       "  'content': '#StandWithUkraine️ 🇺🇦🇬🇧https://twitter.com/DefenceHQ/status/1674780819565727751\\\\n\\\\nOriginal tweet : https://twitter.com/ukraine_world/status/1674809838394540032\\\\n\\\\nhttps://fed.celp.de/system/media_attachments/files/110/634/280/459/465/562/original/7f751339cc434a5e.jpg\\\\n\\\\nhttps://fed.celp.de/system/media_attachments/files/110/634/280/775/749/817/original/f015782bea989248.jpg\\\\n\\\\nhttps://fed.celp.de/system/media_attachments/files/110/634/280/882/615/493/original/e0546a1c279f68a6.jpg\\\\n\\\\nhttps://fed.celp.de/system/media_attachments/files/110/634/281/143/585/053/original/22640422cd7ec735.jpg',\n",
       "  'tags': [['t', 'StandWithUkraine️'],\n",
       "   ['mostr', 'https://fed.celp.de/users/uanews/statuses/110634282137089060']]})"
      ]
     },
     "execution_count": 28,
     "metadata": {},
     "output_type": "execute_result"
    }
   ],
   "source": [
    "event = to_resolve[10]\n",
    "event_id = generate_event_id(\n",
    "    event['pubkey'],\n",
    "    event['created_at'],\n",
    "    event['kind'],\n",
    "    event['tags'],\n",
    "    event['content']\n",
    ")\n",
    "event_id, event['id'], event"
   ]
  },
  {
   "cell_type": "code",
   "execution_count": null,
   "metadata": {},
   "outputs": [],
   "source": [
    "import json\n",
    "import hashlib\n",
    "import bech32\n",
    "import secp256k1\n",
    "\n",
    "def npub_to_hex(npub: str) -> str:\n",
    "    if isinstance(npub, str) == False: raise ValueError(\"Invalid npub\")\n",
    "    if npub.startswith('npub'): raise ValueError(\"Invalid npub\")\n",
    "    hrp, data = bech32.bech32_decode(npub)\n",
    "    decoded_bytes = bech32.convertbits(data, 5, 8, False)\n",
    "    return bytes(decoded_bytes).hex()\n",
    "\n",
    "def sign_event_id(event_id: str, private_key_hex: str) -> str:\n",
    "    private_key = secp256k1.PrivateKey(bytes.fromhex(private_key_hex))\n",
    "    sig = private_key.schnorr_sign(bytes.fromhex(event_id), bip340tag=None, raw=True)\n",
    "    return sig.hex()\n",
    "\n",
    "def calc_event_id(\n",
    "    public_key: str,\n",
    "    created_at: int,\n",
    "    kind_number: int,\n",
    "    tags: list,\n",
    "    content: str,\n",
    ") -> str:\n",
    "    data = [0, public_key, created_at, kind_number, tags, content]\n",
    "    data_str = json.dumps(data, separators=(\",\", \":\"), ensure_ascii=False)\n",
    "    return hashlib.sha256(data_str.encode(\"UTF-8\")).hexdigest()\n",
    "\n",
    "def verify_signature(event_id: str, pubkey: str, sig: str) -> bool:\n",
    "    try:\n",
    "        pub_key = secp256k1.PublicKey(bytes.fromhex(\"02\" + pubkey), True)\n",
    "        result = pub_key.schnorr_verify(bytes.fromhex(event_id), bytes.fromhex(sig), None, raw=True)\n",
    "        if result:\n",
    "            return True\n",
    "        else:\n",
    "            return False\n",
    "    except (ValueError, TypeError) as e:\n",
    "        return False"
   ]
  },
  {
   "cell_type": "code",
   "execution_count": 27,
   "metadata": {},
   "outputs": [
    {
     "data": {
      "text/plain": [
       "{'id': 'e0c4411dd0ec710c3f980c0eecbeb7f6575204487e896d8717391c4bddb745bd',\n",
       " 'created_at': 1684451725,\n",
       " 'kind': 0,\n",
       " 'pubkey': '7556987aa829381934ac6e8d9b71a4da304507f05a7ad60e447bd48218fd6faf',\n",
       " 'sig': '9a6f6428cdc155052fffb71c71cc0955047998ea5b485b851c13da54663c25b43cd395d8f9dc8f8cce238f86b7b1c955ba62b0f73c598d1879a5b5de4dbc3ff9',\n",
       " 'content': '{\\\\\"display_name\\\\\":\\\\\"限时领券优惠\\\\\",\\\\\"website\\\\\":\\\\\"https://55uu.wang\\\\\",\\\\\"name\\\\\":\\\\\"京东拼多多抖音淘宝优惠券\\\\\", \\\\\"about\\\\\":\\\\\"京东,拼多多,抖音,淘宝,限时领券优惠\\\\\", \\\\\"picture\\\\\":\\\\\"https://tftc.io/content/images/2023/01/Screen-Shot-2023-01-30-at-11.11.27-PM.png\\\\\",\\\\\"nip05\\\\\":\\\\\"npub1w4tfs74g9yupjd9vd6xekudymgcy2plstfadvrjy002gyx8ad7hsj782lv@nostr-vip.top\\\\\"}',\n",
       " 'tags': []}"
      ]
     },
     "execution_count": 27,
     "metadata": {},
     "output_type": "execute_result"
    }
   ],
   "source": [
    "event"
   ]
  },
  {
   "cell_type": "code",
   "execution_count": 23,
   "metadata": {},
   "outputs": [
    {
     "data": {
      "text/plain": [
       "'4edb2b128c19c9be680247914e0877606f656bef324519bdc378d5680b85798e'"
      ]
     },
     "execution_count": 23,
     "metadata": {},
     "output_type": "execute_result"
    }
   ],
   "source": [
    "calc_event_id(\n",
    "    events[0]['pubkey'],\n",
    "    events[0]['created_at'],\n",
    "    events[0]['kind'],\n",
    "    events[0]['tags'],\n",
    "    events[0]['content']\n",
    ")"
   ]
  }
 ],
 "metadata": {
  "kernelspec": {
   "display_name": "venv",
   "language": "python",
   "name": "python3"
  },
  "language_info": {
   "codemirror_mode": {
    "name": "ipython",
    "version": 3
   },
   "file_extension": ".py",
   "mimetype": "text/x-python",
   "name": "python",
   "nbconvert_exporter": "python",
   "pygments_lexer": "ipython3",
   "version": "3.12.3"
  }
 },
 "nbformat": 4,
 "nbformat_minor": 2
}
